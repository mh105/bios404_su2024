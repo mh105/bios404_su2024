{
 "cells": [
  {
   "cell_type": "code",
   "execution_count": null,
   "metadata": {},
   "outputs": [],
   "source": [
    "# author: Tom Stone <tomstone@stanford.edu>\n",
    "# author: Proloy Das <email:proloyd94@gmail.com>\n",
    "# License: BSD (3-clause)\n",
    "%matplotlib widget\n",
    "import numpy as np\n",
    "\n",
    "from matplotlib import pyplot\n",
    "from utils import *    # We just talked about this line. ;)\n",
    "\n",
    "\n",
    "pyplot.rcParams.update({\n",
    "    \"text.usetex\": True,\n",
    "    \"font.family\": \"Helvetica\",\n",
    "    \"figure.constrained_layout.use\": True,\n",
    "    \"savefig.dpi\": 300\n",
    "})"
   ]
  },
  {
   "cell_type": "markdown",
   "metadata": {},
   "source": [
    "The very first line should be familiar. Isn't it? All the permutation tests, bootstraping relies on this line to produce reproducible results."
   ]
  },
  {
   "cell_type": "code",
   "execution_count": null,
   "metadata": {},
   "outputs": [],
   "source": [
    "rng = np.random.default_rng(12345)"
   ]
  },
  {
   "cell_type": "markdown",
   "metadata": {},
   "source": [
    "We begin with generating 1024 samples of the following AR(2) process:\n",
    "$$\\begin{aligned}\n",
    "x_k = 0.75 x_{k-1} - 0.5 x_{k-2} + w_k; \\ \\ w_k \\sim \\mathcal{N}(0, 1)\n",
    "\\end{aligned}$$\n",
    "We will start with $x_0=0$, and $x_1=0$, generate 1024 + 10 samples, and discard first 10 samples.\n",
    "Also we will create the time indices corresponding the white noise sequence."
   ]
  },
  {
   "cell_type": "code",
   "execution_count": null,
   "metadata": {},
   "outputs": [],
   "source": [
    "n = 1024\n",
    "# Generate the samples of driving noise.\n",
    "w = rng.normal(size=n+10)\n",
    "# Generate the AR process samples starting from k = 2.\n",
    "x = np.zeros(n+10)\n",
    "for k in range(2, n+10):\n",
    "    x[k] = 0.75 * x[k-1] - 0.5 * x[k-2] + w[k]\n",
    "ar2 = x[10:]\n",
    "# Also keep track of the time indices associated with the samples.\n",
    "time_indices = np.arange(1024)\n"
   ]
  },
  {
   "cell_type": "markdown",
   "metadata": {},
   "source": [
    "Plot the white noise againt time using matplotlib."
   ]
  },
  {
   "cell_type": "code",
   "execution_count": null,
   "metadata": {},
   "outputs": [],
   "source": [
    "fig1, ax = pyplot.subplots(figsize=(8, 2))\n",
    "ax.plot(time_indices, ar2, linewidth=0.5)\n",
    "ax.set_xlabel('$t$')\n",
    "ax.set_ylabel('$ar2$')\n",
    "ax.set_ylim([-5, 5])\n",
    "_ = ax.set_title('AR(2) process')"
   ]
  },
  {
   "cell_type": "markdown",
   "metadata": {},
   "source": [
    "Now we compute the autocovaraince sequence from the realization that we generated."
   ]
  },
  {
   "cell_type": "code",
   "execution_count": null,
   "metadata": {},
   "outputs": [],
   "source": [
    "# Sampe autocorrelation\n",
    "max_lag = ar2.shape[-1] - 1\n",
    "sample_acov, lags = compute_autocovaraince(ar2, max_lag)"
   ]
  },
  {
   "cell_type": "markdown",
   "metadata": {},
   "source": [
    "We take care of the true autocovariance. This problem of finidng theoritical autocovariance for the AR processes is not easy. The following lines of code generates the true autocovariance sequence from the AR(2) process definition."
   ]
  },
  {
   "cell_type": "code",
   "execution_count": null,
   "metadata": {},
   "outputs": [],
   "source": [
    "phi = np.array([1, -0.75, 0.5])   # note that the sign reversal of second and third coeffiences, that's not by mistake.\n",
    "p = max_lag\n",
    "\n",
    "true_acov, lags = compute_theoritical_ar_acov(phi, p)"
   ]
  },
  {
   "cell_type": "markdown",
   "metadata": {},
   "source": [
    "Lets take a quick look at the autocovarainces to gauze the estimation error, i.e., the noise."
   ]
  },
  {
   "cell_type": "code",
   "execution_count": null,
   "metadata": {},
   "outputs": [],
   "source": [
    "fig1, ax = pyplot.subplots(figsize=(8, 2))\n",
    "ax.plot(lags, sample_acov, linewidth=1, color='r', label='Sample')\n",
    "ax.plot(lags, true_acov, linewidth=1, color='b', label='True')\n",
    "ax.set_ylim([-1.0, 2.5])\n",
    "ax.legend()\n",
    "ax.set_xlim([-256, 256])\n",
    "_ = ax.set_title('Autocorrelation sequence plot')"
   ]
  },
  {
   "cell_type": "markdown",
   "metadata": {},
   "source": [
    "Now we are ready for periodograms!"
   ]
  },
  {
   "cell_type": "code",
   "execution_count": null,
   "metadata": {},
   "outputs": [],
   "source": [
    "S_xx_true = np.abs(fft.fft(true_acov))\n",
    "freqs_ = np.linspace(0, 1, num=len(lags))\n",
    "\n",
    "S_xx_est, freqs = compute_periodogram(ar2)\n",
    "\n",
    "\n",
    "# Periodogram plot\n",
    "fig1, ax = pyplot.subplots(figsize=(5, 2))\n",
    "ax.plot(freqs, 10*np.log10(S_xx_est), linewidth=1, color='r', label='Sample')\n",
    "ax.plot(freqs_, 10*np.log10(S_xx_true), linewidth=1, color='b', label='True')\n",
    "ax.set_ylim([-30, 20])\n",
    "ax.set_xlim([0., 0.5])\n",
    "ax.legend()\n",
    "_ = ax.set_title('Periodogram plot')"
   ]
  },
  {
   "cell_type": "markdown",
   "metadata": {},
   "source": [
    "###  Next steps\n",
    "\n",
    "Now lets jump to the `ar4_process.ipynb` notebook, and run the same analysis. This should be easy! We will come back here later."
   ]
  },
  {
   "cell_type": "markdown",
   "metadata": {},
   "source": [
    "# Bias Reduction"
   ]
  },
  {
   "cell_type": "markdown",
   "metadata": {},
   "source": [
    "Now, we will import the `compute_tapered_periodogram()` function that you implemented.\n",
    "\n",
    "NOTE: at this current momenet this notebook cannot see the `compute_tapered_periodogram()` function in the `utils.py` script, since the function was added after you imported the functions from the script. Once imported, python kernel, memorizes the version of the script and does not keep track of newly added function. So, we will need to restart the kernel, and rerun the notebook from the begining.\n",
    "\n",
    "Don't worry, the random process realization will be exactly the same, thanks to _____. [Fill in the gap]\n",
    "\n",
    "Anyways, let get to the computation now. And we will compare them to th true spectrum."
   ]
  },
  {
   "cell_type": "code",
   "execution_count": null,
   "metadata": {},
   "outputs": [],
   "source": [
    "St_xx_est, freqs = compute_tapered_periodogram(ar2, 'hann')\n",
    "\n",
    "fig1, ax = pyplot.subplots(figsize=(5, 2))\n",
    "ax.plot(freqs, 10*np.log10(St_xx_est), linewidth=1, color='r', label='Sample')\n",
    "ax.plot(freqs_, 10*np.log10(S_xx_true), linewidth=1, color='b', label='True')\n",
    "ax.set_ylim([-30, 20])\n",
    "ax.set_xlim([0., 0.5])\n",
    "ax.legend()\n",
    "_ = ax.set_title('Tapered periodogram plot (Hann)')"
   ]
  },
  {
   "cell_type": "code",
   "execution_count": null,
   "metadata": {},
   "outputs": [],
   "source": [
    "St_xx_est, freqs = compute_tapered_periodogram(ar2, 'hamming')\n",
    "\n",
    "fig1, ax = pyplot.subplots(figsize=(5, 2))\n",
    "ax.plot(freqs, 10*np.log10(St_xx_est), linewidth=1, color='r', label='Sample')\n",
    "ax.plot(freqs_, 10*np.log10(S_xx_true), linewidth=1, color='b', label='True')\n",
    "ax.set_ylim([-30, 20])\n",
    "ax.set_xlim([0., 0.5])\n",
    "ax.legend()\n",
    "_ = ax.set_title('Tapered periodogram plot (Hamming)')"
   ]
  },
  {
   "cell_type": "code",
   "execution_count": null,
   "metadata": {},
   "outputs": [],
   "source": [
    "NW = 4\n",
    "St_xx_est, freqs = compute_tapered_periodogram(ar2, ('dpss', NW))\n",
    "\n",
    "S_xx_true = np.abs(fft.fft(true_acov))\n",
    "freqs_ = np.linspace(0, 1, num=len(S_xx_true))\n",
    "\n",
    "fig1, ax = pyplot.subplots(figsize=(5, 2))\n",
    "ax.plot(freqs, 10*np.log10(St_xx_est), linewidth=1, color='r', label='Sample')\n",
    "ax.plot(freqs_, 10*np.log10(S_xx_true), linewidth=1, color='b', label='True')\n",
    "ax.set_ylim([-30, 20])\n",
    "ax.set_xlim([0., 0.5])\n",
    "ax.legend()\n",
    "_ = ax.set_title(f'Tapered periodogram plot (dpss, {NW})')"
   ]
  },
  {
   "cell_type": "markdown",
   "metadata": {},
   "source": [
    "Change the NW from 2 to 10 in steps of 2, and see what happens!"
   ]
  },
  {
   "cell_type": "markdown",
   "metadata": {},
   "source": [
    "Works like a charm. Doesn't it?  \n",
    "\n",
    "Now lets move to `ar4_process.ipynb`, and see it the tapering actually helps with bias. "
   ]
  },
  {
   "cell_type": "markdown",
   "metadata": {},
   "source": [
    "# Variance Reduction\n",
    "We will import the `compute_multitaper_spectrogram()` function that you implemented.\n",
    "\n",
    "NOTE: you will need to restart the kernel, and rerun the notebook from the begining for this notebook to see the `compute_multitaper_spectrogram()` function in the `utils.py` script.\n",
    "\n",
    "Once imported, compute the multitaper spectrum and compare it to the true spectrum."
   ]
  },
  {
   "cell_type": "code",
   "execution_count": null,
   "metadata": {},
   "outputs": [],
   "source": [
    "NW = 4\n",
    "Kmax = 6\n",
    "Smtm_xx_est, freqs = compute_multitaper_spectrum(ar2, NW=NW, Kmax=Kmax)\n",
    "\n",
    "S_xx_true = np.abs(fft.fft(true_acov))\n",
    "freqs_ = np.linspace(0, 1, num=len(S_xx_true))\n",
    "\n",
    "fig1, ax = pyplot.subplots(figsize=(5, 2))\n",
    "ax.plot(freqs, 10*np.log10(Smtm_xx_est), linewidth=1, color='r', label='Sample')\n",
    "ax.plot(freqs_, 10*np.log10(S_xx_true), linewidth=1, color='b', label='True')\n",
    "ax.set_ylim([-30, 20])\n",
    "ax.set_xlim([0., 0.5])\n",
    "ax.legend()\n",
    "_ = ax.set_title(f'Multitaper spectrum plot (dpss, {NW}, {Kmax} tapers)')"
   ]
  },
  {
   "cell_type": "markdown",
   "metadata": {},
   "source": [
    "Congrats you finished this notebook!\n",
    "\n",
    "\n",
    "Now lets jump to the `ar4_process.ipynb` notebook, and run the same analysis. This should be easy! We will come back here later."
   ]
  }
 ],
 "metadata": {
  "kernelspec": {
   "display_name": "Python 3 (ipykernel)",
   "language": "python",
   "name": "python3"
  },
  "language_info": {
   "codemirror_mode": {
    "name": "ipython",
    "version": 3
   },
   "file_extension": ".py",
   "mimetype": "text/x-python",
   "name": "python",
   "nbconvert_exporter": "python",
   "pygments_lexer": "ipython3",
   "version": "3.11.7"
  }
 },
 "nbformat": 4,
 "nbformat_minor": 4
}
