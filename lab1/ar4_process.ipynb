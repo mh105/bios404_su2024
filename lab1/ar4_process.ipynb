{
 "cells": [
  {
   "cell_type": "code",
   "execution_count": null,
   "metadata": {},
   "outputs": [],
   "source": [
    "# author: Tom Stone <tomstone@stanford.edu>\n",
    "# author: Proloy Das <email:proloyd94@gmail.com>\n",
    "# License: BSD (3-clause)\n",
    "%matplotlib widget\n",
    "%matplotlib widget\n",
    "import os\n",
    "import numpy as np\n",
    "from scipy import signal, fft\n",
    "from pathlib import Path\n",
    "\n",
    "from matplotlib import pyplot\n",
    "from lab1_utils import *    # Familiar line? Now you are statring to appereciate this, right? :)\n",
    "\n",
    "\n",
    "pyplot.rcParams.update({\n",
    "    \"text.usetex\": True,\n",
    "    \"font.family\": \"Helvetica\",\n",
    "    \"figure.constrained_layout.use\": True,\n",
    "    \"savefig.dpi\": 300\n",
    "})"
   ]
  },
  {
   "cell_type": "markdown",
   "metadata": {},
   "source": [
    "notebook: Knock, knock!\n",
    "\n",
    "you: Who is there?\n",
    "\n",
    "notebook: Your familar line of code."
   ]
  },
  {
   "cell_type": "code",
   "execution_count": null,
   "metadata": {},
   "outputs": [],
   "source": [
    "rng = np.random.default_rng(2345)"
   ]
  },
  {
   "cell_type": "markdown",
   "metadata": {},
   "source": [
    "## Generating an AR(4) signal"
   ]
  },
  {
   "cell_type": "markdown",
   "metadata": {},
   "source": [
    "For this example, we begin with generating 1024 samples of the following AR(4) process:\n",
    "$$\\begin{aligned}\n",
    "x_k = 3.28285739 x_{k-1} - 4.61269743 x_{k-2} + 3.21388527 x_{k-3} - 0.95865639 x_{k-4} + w_k; \\ \\ w_k \\sim \\mathcal{N}(0, 1)\n",
    "\\end{aligned}$$\n",
    "We will start with $x_0=0, x_1=0, x_2=0$, and $x_3=0$, generate 1024 + 50 samples, and discard first 50 samples.\n",
    "Also we will create the time indices corresponding the white noise sequence."
   ]
  },
  {
   "cell_type": "code",
   "execution_count": null,
   "metadata": {},
   "outputs": [],
   "source": [
    "phi = np.array([1., -3.28285739, 4.61269743, -3.21388527, 0.95865639])  \n",
    "# Note that we need to reverse the sign of AR coeffiences, when they are given in this form.\n",
    "n = 1024\n",
    "# Generate the samples of driving noise.\n",
    "w = rng.normal(size=n+50)\n",
    "# Generate the AR process samples starting from k = 4.\n",
    "x = np.zeros(n + 50)\n",
    "for i in range(4, n+50):\n",
    "    x[i] = - phi[1] * x[i-1] - phi[2] * x[i-2] - phi[3] * x[i-3] - phi[4] * x[i-4] + w[i]\n",
    "    # x[i] = - np.inner(phi[1:], x[i-phi.shape[-1]+1:i][::-1]) + w[i]\n",
    "ar4 = x[50:]\n",
    "\n",
    "# The time indices associated with the samples.\n",
    "time_indices = np.arange(1024)"
   ]
  },
  {
   "cell_type": "markdown",
   "metadata": {},
   "source": [
    "Plot the white noise againt time using matplotlib."
   ]
  },
  {
   "cell_type": "code",
   "execution_count": null,
   "metadata": {},
   "outputs": [],
   "source": [
    "fig1, ax = pyplot.subplots(figsize=(8, 2))\n",
    "ax.plot(time_indices, ar4, linewidth=0.5)\n",
    "ax.set_xlabel('$t$')\n",
    "ax.set_ylabel('$ar2$')\n",
    "ax.set_ylim([-120, 120])\n",
    "_ = ax.set_title('AR(4) process')"
   ]
  },
  {
   "cell_type": "markdown",
   "metadata": {},
   "source": [
    "Now we compute the autocovaraince sequence from the realization that we generated."
   ]
  },
  {
   "cell_type": "code",
   "execution_count": null,
   "metadata": {},
   "outputs": [],
   "source": [
    "# Sampe autocorrelation\n",
    "max_lag = ar4.shape[-1] - 1\n",
    "sample_acov, lags = compute_autocovaraince(ar4, max_lag)"
   ]
  },
  {
   "cell_type": "markdown",
   "metadata": {},
   "source": [
    "The following lines of code generates the true autocovariance sequence from the AR(4) process definition."
   ]
  },
  {
   "cell_type": "code",
   "execution_count": null,
   "metadata": {},
   "outputs": [],
   "source": [
    "true_acov, lags_ = compute_theoritical_ar_acov(phi, max_lag)"
   ]
  },
  {
   "cell_type": "markdown",
   "metadata": {},
   "source": [
    "Lets take a quick look at the autocovarainces to gauze the estimation error, i.e., the noise."
   ]
  },
  {
   "cell_type": "code",
   "execution_count": null,
   "metadata": {},
   "outputs": [],
   "source": [
    "fig1, ax = pyplot.subplots(figsize=(8, 2))\n",
    "ax.plot(lags, sample_acov, linewidth=1, color='r', label='Sample')\n",
    "ax.plot(lags_, true_acov, linewidth=1, color='b', label='True')\n",
    "ax.set_ylim([-1000.0, 1600])\n",
    "ax.legend()\n",
    "ax.set_xlim([-1024, 1024])\n",
    "_ = ax.set_title('Autocorrelation sequence plot')"
   ]
  },
  {
   "cell_type": "markdown",
   "metadata": {},
   "source": [
    "Now we are ready for periodograms!"
   ]
  },
  {
   "cell_type": "code",
   "execution_count": null,
   "metadata": {},
   "outputs": [],
   "source": [
    "S_xx_true = np.abs(fft.fft(true_acov))\n",
    "freqs_ = np.linspace(0, 1, num=len(lags))\n",
    "\n",
    "S_xx_est, freqs = compute_periodogram(ar4)\n",
    "\n",
    "\n",
    "# Periodogram plot\n",
    "fig1, ax = pyplot.subplots(figsize=(5, 2))\n",
    "ax.plot(freqs, 10*np.log10(S_xx_est), linewidth=1, color='r', label='Sample')\n",
    "ax.plot(freqs_, 10*np.log10(S_xx_true), linewidth=1, color='b', label='True')\n",
    "ax.set_ylim([-30, 60])\n",
    "ax.set_xlim([0., 0.5])\n",
    "ax.legend()\n",
    "_ = ax.set_title('Periodogram plot')"
   ]
  },
  {
   "cell_type": "markdown",
   "metadata": {},
   "source": [
    "Bias!\n",
    "\n",
    "How do we take care of that?\n",
    "Tapering!"
   ]
  },
  {
   "cell_type": "code",
   "execution_count": null,
   "metadata": {},
   "outputs": [],
   "source": [
    "win = signal.get_window('hann', 1024)"
   ]
  },
  {
   "cell_type": "code",
   "execution_count": null,
   "metadata": {},
   "outputs": [],
   "source": [
    "times = np.arange(ar4.shape[-1])\n",
    "fig, ax = pyplot.subplots(figsize=(8, 2))\n",
    "ax.plot(times, ar4 / 100, linewidth=0.5)\n",
    "ax.plot(times, win+2, linewidth=0.5, color='k')\n",
    "ax.set_ylim([-1.2, 3.2])"
   ]
  },
  {
   "cell_type": "code",
   "execution_count": null,
   "metadata": {},
   "outputs": [],
   "source": [
    "tapered_ar4 = ar4 * win\n",
    "fig, ax = pyplot.subplots(figsize=(8, 2))\n",
    "ax.plot(times, tapered_ar4 / 100, linewidth=0.5)\n",
    "ax.set_ylim([-1.2, 1.2])"
   ]
  },
  {
   "cell_type": "markdown",
   "metadata": {},
   "source": [
    "# Function number three, `periodogram_tapered`"
   ]
  },
  {
   "cell_type": "code",
   "execution_count": null,
   "metadata": {},
   "outputs": [],
   "source": [
    "freq, S_yy_true = signal.freqz(1, phi, fs=1)\n",
    "\n",
    "S_yy_est, freq_est = periodogram_tapered(ar4, win)\n",
    "\n",
    "fig, ax = pyplot.subplots(figsize=(5, 2.5))\n",
    "ax.plot(freq_est, 10*np.log10(S_yy_est), linewidth=0.5, label='Tapered estimate')\n",
    "ax.plot(freq, 20*np.log10(np.abs(S_yy_true)), color='r', linewidth=0.5, label='True')\n",
    "ax.set_ylabel(\"$10\\log_{10}\\widehat{S}(f)$ (dB)\")\n",
    "ax.set_xlabel(\"$fT$\")\n",
    "ax.set_title(\"AR(4) process\")\n",
    "ax.legend()\n",
    "ax.set_xlim([0, 0.5])"
   ]
  },
  {
   "cell_type": "markdown",
   "metadata": {},
   "source": [
    "## Question\n",
    "What has the taper eliminated, the bias or the variance?\n",
    "\n",
    "## Another taper\n",
    "Let's look at the DPSS zero-sequence taper"
   ]
  },
  {
   "cell_type": "code",
   "execution_count": null,
   "metadata": {},
   "outputs": [],
   "source": [
    "taper = signal.windows.dpss(1024, 4, Kmax=1)[0,:] * np.sqrt(1024) # need this normalizing constant for DPSS\n",
    "fig, ax = pyplot.subplots(figsize=(6,3))\n",
    "ax.plot(taper)"
   ]
  },
  {
   "cell_type": "code",
   "execution_count": null,
   "metadata": {},
   "outputs": [],
   "source": [
    "freq, S_yy_true = signal.freqz(1, phi, fs=1)\n",
    "\n",
    "S_yy_est, freq_est = periodogram_tapered(ar4, taper)\n",
    "\n",
    "fig, ax = pyplot.subplots(figsize=(5, 2.5))\n",
    "ax.plot(freq_est, 10*np.log10(S_yy_est), linewidth=0.5, label='Tapered estimate')\n",
    "ax.plot(freq, 20*np.log10(np.abs(S_yy_true)), color='r', linewidth=0.5, label='True')\n",
    "ax.set_ylabel(\"$10\\log_{10}\\widehat{S}(f)$ (dB)\")\n",
    "ax.set_xlabel(\"$fT$\")\n",
    "ax.set_title(\"AR(4) process\")\n",
    "ax.legend()\n",
    "ax.set_xlim([0, 0.5])"
   ]
  },
  {
   "cell_type": "markdown",
   "metadata": {},
   "source": [
    "## Function number four, `multitaper_periodogram`\n",
    "There are more than one DPSS tapers! Write a function to average the results from multiple DPSS tapers.\n",
    "\n",
    "Remember that you can control (1) the time-half-bandwidth product and (2) the number of tapers used\n",
    "\n",
    "Implement the function `multitaper_periodogram`"
   ]
  },
  {
   "cell_type": "code",
   "execution_count": null,
   "metadata": {},
   "outputs": [],
   "source": [
    "nw = 4\n",
    "ntapers = 4\n",
    "\n",
    "freq, S_yy_true = signal.freqz(1, phi, fs=1)\n",
    "\n",
    "S_yy_est, freq_est = multitaper_periodogram(ar4, nw, ntapers)\n",
    "\n",
    "fig, ax = pyplot.subplots(figsize=(5, 2.5))\n",
    "ax.plot(freq_est, 10*np.log10(S_yy_est), linewidth=0.5, label='Multitaper estimate')\n",
    "ax.plot(freq, 20*np.log10(np.abs(S_yy_true)), color='r', linewidth=0.5, label='True')\n",
    "ax.set_ylabel(\"$10\\log_{10}\\widehat{S}(f)$ (dB)\")\n",
    "ax.set_xlabel(\"$fT$\")\n",
    "ax.set_title(\"AR(4) process\")\n",
    "ax.legend()\n",
    "ax.set_xlim([0, 0.5])"
   ]
  }
 ],
 "metadata": {
  "kernelspec": {
   "display_name": "mne",
   "language": "python",
   "name": "python3"
  },
  "language_info": {
   "codemirror_mode": {
    "name": "ipython",
    "version": 3
   },
   "file_extension": ".py",
   "mimetype": "text/x-python",
   "name": "python",
   "nbconvert_exporter": "python",
   "pygments_lexer": "ipython3",
   "version": "3.11.7"
  }
 },
 "nbformat": 4,
 "nbformat_minor": 2
}
