{
 "cells": [
  {
   "cell_type": "markdown",
   "metadata": {},
   "source": [
    "# Real EEG data example"
   ]
  },
  {
   "cell_type": "code",
   "execution_count": null,
   "metadata": {},
   "outputs": [],
   "source": [
    "%matplotlib widget\n",
    "import os\n",
    "import numpy as np\n",
    "from scipy import signal, fft\n",
    "from pathlib import Path\n",
    "\n",
    "from matplotlib import pyplot\n",
    "from lab1_utils import *\n",
    "\n",
    "\n",
    "pyplot.rcParams.update({\n",
    "    \"text.usetex\": True,\n",
    "    \"font.family\": \"Helvetica\",\n",
    "    \"figure.constrained_layout.use\": True,\n",
    "    \"savefig.dpi\": 300\n",
    "})\n",
    "# rng = np.random.default_rng(12345)"
   ]
  },
  {
   "cell_type": "code",
   "execution_count": null,
   "metadata": {},
   "outputs": [],
   "source": [
    "with np.load('propofol_eeg_demo.npz') as f:\n",
    "    data = f['data']\n",
    "    times = f['times']\n",
    "\n",
    "baseline        = data[0, np.logical_and(times >= 500., times < 510.)] \n",
    "deep_anesthesia = data[0, np.logical_and(times >= 4705., times < 4715.)]\n",
    "\n",
    "fs = 1 / (times[1] - times[0])\n",
    "fs"
   ]
  },
  {
   "cell_type": "code",
   "execution_count": null,
   "metadata": {},
   "outputs": [],
   "source": [
    "fig, ax = pyplot.subplots(figsize=(8, 2))\n",
    "ax.plot(np.arange(baseline.shape[-1]) / 100, baseline.T * 1e6, linewidth=0.5)\n",
    "ax.set_ylim([-50, 50])\n",
    "ax.set_title('Baseline')\n",
    "ax.set_ylabel('amplitude (µV)')\n",
    "ax.set_xlabel('time (s)')"
   ]
  },
  {
   "cell_type": "code",
   "execution_count": null,
   "metadata": {},
   "outputs": [],
   "source": [
    "S_yy_mt_est, freqs = multitaper_periodogram(baseline, fs=fs)\n",
    "fig, ax = pyplot.subplots(figsize = (6,3))\n",
    "ax.plot(freqs, 10*np.log10(S_yy_mt_est) + 120, linewidth=0.5)\n",
    "ax.set_xlim([0, fs/2])\n",
    "ax.set_title('Baseline Spectrum')\n",
    "ax.set_ylabel('PSD (dB)')\n",
    "ax.set_xlabel('Freq (Hz)')"
   ]
  },
  {
   "cell_type": "code",
   "execution_count": null,
   "metadata": {},
   "outputs": [],
   "source": [
    "fig, ax = pyplot.subplots(figsize=(8, 2))\n",
    "ax.plot(np.arange(deep_anesthesia.shape[-1]) / 100, deep_anesthesia.T * 1e6, linewidth=0.5)\n",
    "ax.set_ylim([-50, 50])\n",
    "ax.set_title('Deep Anesthesia')\n",
    "ax.set_ylabel('Amplitude (µV)')\n",
    "ax.set_xlabel('Time (s)')"
   ]
  },
  {
   "cell_type": "code",
   "execution_count": null,
   "metadata": {},
   "outputs": [],
   "source": [
    "S_yy_mt_est, freqs = multitaper_periodogram(deep_anesthesia, fs=fs, ntapers=7)\n",
    "fig, ax = pyplot.subplots(figsize = (6,3))\n",
    "ax.plot(freqs, 10*np.log10(S_yy_mt_est) + 120, linewidth=0.5)\n",
    "ax.set_xlim([0, fs/2])\n",
    "ax.set_ylabel('PSD (dB)')\n",
    "ax.set_xlabel('Freq (Hz)')\n",
    "ax.set_title('Deep Anesthesia Spectrum')"
   ]
  },
  {
   "cell_type": "markdown",
   "metadata": {},
   "source": [
    "# Multitaper spectrogram function\n",
    "\n",
    "Create a function `multitaper_spectrogram` that takes in a window size, sampling frequency, time-half-bandwidth product, and number of tapers to create a spectrogram using your `multitaper_periodogram` function"
   ]
  },
  {
   "cell_type": "code",
   "execution_count": null,
   "metadata": {},
   "outputs": [],
   "source": [
    "window_duration = 4\n",
    "nw = 4\n",
    "ntapers = 7\n",
    "\n",
    "powers, freqs, times = multitaper_spectrogram(data[0,:], window_size=int(window_duration * fs), fs=fs, nw=nw, ntapers=ntapers)"
   ]
  },
  {
   "cell_type": "code",
   "execution_count": null,
   "metadata": {},
   "outputs": [],
   "source": [
    "fix, ax = pyplot.subplots(figsize=(8,4))\n",
    "ax.pcolormesh(times, freqs, 10*np.log10(powers)+120, cmap='jet', clim=[-10, 20])\n",
    "ax.set_ylim([0, fs/2])\n",
    "ax.set_ylabel('Frequency (Hz)')\n",
    "ax.set_xlabel('Time (s)')\n",
    "ax.set_title('Anesthesia case')"
   ]
  }
 ],
 "metadata": {
  "kernelspec": {
   "display_name": "mne",
   "language": "python",
   "name": "python3"
  },
  "language_info": {
   "codemirror_mode": {
    "name": "ipython",
    "version": 3
   },
   "file_extension": ".py",
   "mimetype": "text/x-python",
   "name": "python",
   "nbconvert_exporter": "python",
   "pygments_lexer": "ipython3",
   "version": "3.11.6"
  }
 },
 "nbformat": 4,
 "nbformat_minor": 2
}
